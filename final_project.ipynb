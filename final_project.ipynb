{
 "cells": [
  {
   "cell_type": "code",
   "execution_count": 14,
   "metadata": {},
   "outputs": [
    {
     "name": "stdout",
     "output_type": "stream",
     "text": [
      "Device:  cuda\n"
     ]
    }
   ],
   "source": [
    "import torch\n",
    "import torch.nn as nn\n",
    "from torch.utils.data import Dataset, DataLoader\n",
    "from transformers import AutoTokenizer, AutoModel\n",
    "import math\n",
    "import torch\n",
    "import torch.nn as nn\n",
    "from torch.utils.data import Dataset, DataLoader\n",
    "from transformers import AutoTokenizer, AutoModel\n",
    "from torch.nn.utils.rnn import pad_sequence, pack_padded_sequence, pad_packed_sequence\n",
    "from torchinfo import summary\n",
    "import yaml\n",
    "from tqdm import tqdm\n",
    "import gc\n",
    "\n",
    "\n",
    "device = \"cuda\" if torch.cuda.is_available() else \"cpu\"\n",
    "print(\"Device: \", device)\n",
    "\n"
   ]
  },
  {
   "cell_type": "code",
   "execution_count": 35,
   "metadata": {},
   "outputs": [
    {
     "name": "stdout",
     "output_type": "stream",
     "text": [
      "Overwriting config.yaml\n"
     ]
    }
   ],
   "source": [
    "%%writefile config.yaml\n",
    "Name: \"IDL Project\"\n",
    "\n",
    "###### Dataset -----------------------------------------------------------------\n",
    "root: \"dataset.csv\"          \n",
    "\n",
    "NUM_WORKERS: 4\n",
    "subset: 1       \n",
    "batch_size: 1\n",
    "\n",
    "embed_dropout: 0.1\n",
    "\n",
    "###### Encoder Specs -------------------------------------------------------------\n",
    "enc_dropout: 0.15\n",
    "enc_num_layers: 1\n",
    "enc_num_heads: 8\n",
    "\n",
    "###### Decoder Specs -------------------------------------------------------------\n",
    "dec_dropout: 0.15\n",
    "dec_num_layers: 1\n",
    "dec_num_heads: 8\n",
    "\n",
    "###### Network Specs -------------------------------------------------------------\n",
    "d_model: 256\n",
    "d_ff: 1024\n",
    "\n",
    "###### Base Parameters -----------------------------------------------------------\n",
    "use_wandb: False\n",
    "use_ctc: False\n",
    "ctc_weight: 0.3\n",
    "optimizer: \"AdamW\" # Adam, AdamW, SGD\n",
    "momentum: 0.0\n",
    "nesterov: True\n",
    "learning_rate: 2E-4\n",
    "scheduler: \"CosineAnnealing\" # ['ReduceLR', 'CosineAnnealing']\n",
    "factor: 0.2\n",
    "patience: 2\n",
    "epochs: 100\n"
   ]
  },
  {
   "cell_type": "code",
   "execution_count": 3,
   "metadata": {},
   "outputs": [],
   "source": [
    "# Load the config file\n",
    "with open(\"config.yaml\", \"r\") as file:\n",
    "  config = yaml.safe_load(file)"
   ]
  },
  {
   "cell_type": "code",
   "execution_count": 4,
   "metadata": {},
   "outputs": [],
   "source": [
    "# Initialize tokenizer\n",
    "tokenizer = AutoTokenizer.from_pretrained(\"bert-base-multilingual-cased\")  # Change model if needed\n",
    "max_length = 128"
   ]
  },
  {
   "cell_type": "code",
   "execution_count": 15,
   "metadata": {},
   "outputs": [],
   "source": [
    "import pandas as pd\n",
    "import torch\n",
    "from torch.utils.data import Dataset\n",
    "from torch.nn.utils.rnn import pad_sequence\n",
    "\n",
    "class TextDataset(Dataset):\n",
    "    def __init__(self, \n",
    "                 csv_path: str, \n",
    "                 isTrainPartition: bool, \n",
    "                 tokenizer, \n",
    "                 subset: float = 1.0,\n",
    "                 eos = 1,\n",
    "                 sos = 1,\n",
    "                 pad = 0\n",
    "                 ):\n",
    "        \"\"\"\n",
    "        Args:\n",
    "            csv_path (str): Path to the CSV file.\n",
    "            isTrainPartition (bool): Whether the dataset is for training or validation.\n",
    "            tokenizer: Tokenizer instance to tokenize text.\n",
    "            subset (float): Fraction of the dataset to use (0.0 to 1.0).\n",
    "        \"\"\"\n",
    "        self.tokenizer = tokenizer\n",
    "        self.eos_token = eos\n",
    "        self.sos_token = sos\n",
    "        self.pad_token = pad\n",
    "        \n",
    "        # Load data from CSV\n",
    "        self.data = pd.read_csv(csv_path)\n",
    "\n",
    "        # Split into train and validation sets\n",
    "        split_idx = int(len(self.data) * 0.8)\n",
    "        if isTrainPartition:\n",
    "            self.data = self.data.iloc[:split_idx]\n",
    "        else:\n",
    "            self.data = self.data.iloc[split_idx:]\n",
    "\n",
    "        # Apply subset fraction\n",
    "        subset_idx = int(len(self.data) * subset)\n",
    "        self.data = self.data.iloc[:subset_idx]\n",
    "\n",
    "        self.length = len(self.data)\n",
    "\n",
    "    def __len__(self):\n",
    "        return self.length\n",
    "\n",
    "    def __getitem__(self, idx):\n",
    "        row = self.data.iloc[idx]\n",
    "        correct_text = row['Correct Text']\n",
    "        noisy_text = row['Noisy Text']\n",
    "\n",
    "        # Tokenize texts\n",
    "        correct_tokens = self.tokenizer.encode(correct_text)\n",
    "        noisy_tokens = self.tokenizer.encode(noisy_text)\n",
    "\n",
    "        # Prepare input, target, and golden sequences\n",
    "        input_seq = torch.LongTensor([self.sos_token] + noisy_tokens + [self.sos_token])\n",
    "        target_seq = torch.LongTensor([self.sos_token] + correct_tokens)\n",
    "        golden_seq = torch.LongTensor(correct_tokens + [self.sos_token])\n",
    "\n",
    "        return input_seq, target_seq, golden_seq\n",
    "\n",
    "    def collate_fn(self, batch):\n",
    "        \"\"\"Collate function for padding and batching.\"\"\"\n",
    "        input_seqs = [item[0] for item in batch]\n",
    "        target_seqs = [item[1] for item in batch]\n",
    "        golden_seqs = [item[2] for item in batch]\n",
    "\n",
    "        # Pad sequences\n",
    "        input_seqs_padded = pad_sequence(input_seqs, batch_first=True, padding_value=self.pad_token)\n",
    "        target_seqs_padded = pad_sequence(target_seqs, batch_first=True, padding_value=self.pad_token)\n",
    "        golden_seqs_padded = pad_sequence(golden_seqs, batch_first=True, padding_value=self.pad_token)\n",
    "\n",
    "        # Get sequence lengths\n",
    "        input_lengths = torch.tensor([len(seq) for seq in input_seqs])\n",
    "        target_lengths = torch.tensor([len(seq) for seq in target_seqs])\n",
    "        golden_lengths = torch.tensor([len(seq) for seq in golden_seqs])\n",
    "\n",
    "        return input_seqs_padded, target_seqs_padded, golden_seqs_padded, input_lengths, target_lengths, golden_lengths\n"
   ]
  },
  {
   "cell_type": "code",
   "execution_count": 16,
   "metadata": {},
   "outputs": [],
   "source": [
    "\n",
    "train_dataset   = TextDataset(\n",
    "    csv_path        = config['root'],\n",
    "\n",
    "    tokenizer   = tokenizer,\n",
    "    isTrainPartition = True,\n",
    "    subset      = config['subset'],\n",
    "\n",
    ")\n",
    "\n",
    "\n",
    "val_dataset     =  TextDataset(\n",
    "    csv_path        = config['root'],\n",
    "    tokenizer   = tokenizer,\n",
    "    isTrainPartition = False,\n",
    "    subset      = config['subset'],\n",
    "\n",
    ")\n",
    "\n",
    "\n",
    "\n",
    "\n",
    "\n",
    "train_loader    = DataLoader(\n",
    "    dataset     = train_dataset,\n",
    "    batch_size  = config[\"batch_size\"],\n",
    "    shuffle     = True,\n",
    "    num_workers = config['NUM_WORKERS'],\n",
    "    pin_memory  = True,\n",
    "    collate_fn  = train_dataset.collate_fn\n",
    ")\n",
    "\n",
    "\n",
    "val_loader      = DataLoader(\n",
    "    dataset     = val_dataset,\n",
    "    batch_size  = config[\"batch_size\"],\n",
    "    shuffle     = False,\n",
    "    num_workers = config['NUM_WORKERS'],\n",
    "    pin_memory  = True,\n",
    "    collate_fn  = val_dataset.collate_fn\n",
    ")\n",
    "\n",
    "\n"
   ]
  },
  {
   "cell_type": "code",
   "execution_count": null,
   "metadata": {},
   "outputs": [
    {
     "name": "stdout",
     "output_type": "stream",
     "text": [
      "\n",
      "Paired Data Stats: \n",
      "No. of Train Feats   : 800\n",
      "Batch Size           : 32\n",
      "Train Batches        : 25\n",
      "Val Batches          : 7\n",
      "\n",
      "Checking the Shapes of the Data --\n",
      "\n",
      "x_pad shape:\t\ttorch.Size([32, 124])\n",
      "x_len shape:\t\ttorch.Size([32])\n",
      "y_shifted_pad shape:\ttorch.Size([32, 121])\n",
      "y_golden_pad shape:\ttorch.Size([32, 121])\n",
      "y_len shape:\t\ttorch.Size([32])\n",
      "\n",
      "Transcript Shifted: [unused1] [CLS] Kwita ku mirire n [UNK] ubuzima bwo mu mutwe ni ingenzi mu kurushaho kugira ubuzima bwiza. Guharanira gutunga intungamubiri zikwiranye n [UNK] umubiri, gukora imyitozo, no kugira umutima utuje bigira ingaruka nziza ku buzima bw [UNK] umubiri. [SEP] [PAD] [PAD] [PAD] [PAD] [PAD] [PAD] [PAD] [PAD] [PAD] [PAD] [PAD] [PAD] [PAD] [PAD] [PAD] [PAD] [PAD] [PAD] [PAD] [PAD] [PAD] [PAD] [PAD] [PAD] [PAD] [PAD] [PAD]\n",
      "Transcript Golden: [CLS] Kwita ku mirire n [UNK] ubuzima bwo mu mutwe ni ingenzi mu kurushaho kugira ubuzima bwiza. Guharanira gutunga intungamubiri zikwiranye n [UNK] umubiri, gukora imyitozo, no kugira umutima utuje bigira ingaruka nziza ku buzima bw [UNK] umubiri. [SEP] [unused1] [PAD] [PAD] [PAD] [PAD] [PAD] [PAD] [PAD] [PAD] [PAD] [PAD] [PAD] [PAD] [PAD] [PAD] [PAD] [PAD] [PAD] [PAD] [PAD] [PAD] [PAD] [PAD] [PAD] [PAD] [PAD] [PAD] [PAD]\n",
      "\n",
      "\n",
      "\n",
      "Verifying Datasets\n",
      "Loaded Path:  train\n"
     ]
    },
    {
     "name": "stderr",
     "output_type": "stream",
     "text": [
      "Verifying train Dataset: 100%|██████████| 25/25 [00:00<00:00, 67.18it/s]\n"
     ]
    },
    {
     "name": "stdout",
     "output_type": "stream",
     "text": [
      "Maximum Feat Length in Dataset       : 124\n",
      "Maximum Transcript Length in Dataset : 121\n",
      "Loaded Path:  val\n"
     ]
    },
    {
     "name": "stderr",
     "output_type": "stream",
     "text": [
      "Verifying val Dataset: 100%|██████████| 7/7 [00:00<00:00, 21.41it/s]"
     ]
    },
    {
     "name": "stdout",
     "output_type": "stream",
     "text": [
      "Maximum Feat Length in Dataset       : 39\n",
      "Maximum Transcript Length in Dataset : 37\n",
      "Maximum Feat. Length in Entire Dataset      : 124\n",
      "Maximum Transcript Length in Entire Dataset : 121\n",
      "\n"
     ]
    },
    {
     "name": "stderr",
     "output_type": "stream",
     "text": [
      "\n"
     ]
    },
    {
     "data": {
      "text/plain": [
       "1359"
      ]
     },
     "execution_count": 19,
     "metadata": {},
     "output_type": "execute_result"
    }
   ],
   "source": [
    "def verify_dataset(dataloader, partition):\n",
    "    print(\"Loaded Path: \", partition)\n",
    "    max_len_feat = 0\n",
    "    max_len_t    = 0  \n",
    "\n",
    "    for batch in tqdm(dataloader, desc=f\"Verifying {partition} Dataset\"):\n",
    "      try:\n",
    "        x_pad, y_shifted_pad, y_golden_pad, x_len, y_len, gold_len = batch\n",
    "\n",
    "        len_x = x_pad.shape[1]\n",
    "        if len_x > max_len_feat:\n",
    "            max_len_feat = len_x\n",
    "\n",
    "\n",
    "        len_y = y_shifted_pad.shape[1]\n",
    "        if len_y > max_len_t:\n",
    "            max_len_t = len_y\n",
    "\n",
    "      except:\n",
    "      \n",
    "        y_shifted_pad, y_golden_pad, y_len = batch\n",
    "\n",
    "        len_y = y_shifted_pad.shape[1]\n",
    "        if len_y > max_len_t:\n",
    "            max_len_t = len_y\n",
    "\n",
    "\n",
    "    print(f\"Maximum Feat Length in Dataset       : {max_len_feat}\")\n",
    "    print(f\"Maximum Transcript Length in Dataset : {max_len_t}\")\n",
    "    return max_len_feat, max_len_t\n",
    "\n",
    "print('')\n",
    "print(\"Paired Data Stats: \")\n",
    "print(f\"No. of Train Feats   : {train_dataset.__len__()}\")\n",
    "print(f\"Batch Size           : {config['batch_size']}\")\n",
    "print(f\"Train Batches        : {train_loader.__len__()}\")\n",
    "print(f\"Val Batches          : {val_loader.__len__()}\")\n",
    "print('')\n",
    "print(\"Checking the Shapes of the Data --\\n\")\n",
    "for batch in train_loader:\n",
    "    x_pad, y_shifted_pad, y_golden_pad, x_len, y_len, y_golden_len = batch\n",
    "    print(f\"x_pad shape:\\t\\t{x_pad.shape}\")\n",
    "    print(f\"x_len shape:\\t\\t{x_len.shape}\")\n",
    "    print(f\"y_shifted_pad shape:\\t{y_shifted_pad.shape}\")\n",
    "    print(f\"y_golden_pad shape:\\t{y_golden_pad.shape}\")\n",
    "    print(f\"y_len shape:\\t\\t{y_len.shape}\\n\")\n",
    "\n",
    "    # convert one transcript to text\n",
    "    transcript = train_dataset.tokenizer.decode(y_shifted_pad[0].tolist())\n",
    "    print(f\"Transcript Shifted: {transcript}\")\n",
    "    transcript = train_dataset.tokenizer.decode(y_golden_pad[0].tolist())\n",
    "    print(f\"Transcript Golden: {transcript}\")\n",
    "    break\n",
    "print('')\n",
    "\n",
    "\n",
    "print(\"\\n\\nVerifying Datasets\")\n",
    "max_train_input, max_train_transcript = verify_dataset(train_loader, 'train')\n",
    "max_val_input, max_val_transcript     = verify_dataset(val_loader,   'val')\n",
    "\n",
    "\n",
    "MAX_INP_LEN = max(max_train_input, max_val_input)\n",
    "MAX_TRANS_LEN  = max(max_train_transcript, max_val_transcript)\n",
    "print(f\"Maximum Feat. Length in Entire Dataset      : {MAX_INP_LEN}\")\n",
    "print(f\"Maximum Transcript Length in Entire Dataset : {MAX_TRANS_LEN}\")\n",
    "print('')\n",
    "gc.collect()\n",
    "\n"
   ]
  },
  {
   "cell_type": "code",
   "execution_count": 20,
   "metadata": {},
   "outputs": [],
   "source": [
    "class PositionalEncoding(torch.nn.Module):\n",
    "    ''' Position Encoding from Attention Is All You Need Paper '''\n",
    "\n",
    "    def __init__(self, d_model, max_len=512):\n",
    "        super().__init__()\n",
    "\n",
    "        # Initialize a tensor to hold the positional encodings\n",
    "        pe          = torch.zeros(max_len, d_model)\n",
    "\n",
    "        # Create a tensor representing the positions (0 to max_len-1)\n",
    "        position    = torch.arange(0, max_len, dtype=torch.float).unsqueeze(1)\n",
    "\n",
    "        # Calculate the division term for the sine and cosine functions\n",
    "        # This term creates a series of values that decrease geometrically, used to generate varying frequencies for positional encodings\n",
    "        div_term    = torch.exp(torch.arange(0, d_model, 2).float() * (-math.log(10000.0) / d_model))\n",
    "\n",
    "        # Compute the positional encodings using sine and cosine functions\n",
    "        pe[:, 0::2] = torch.sin(position * div_term)\n",
    "        pe[:, 1::2] = torch.cos(position * div_term)\n",
    "\n",
    "        # Reshape the positional encodings tensor and make it a buffer\n",
    "        pe = pe.unsqueeze(0)\n",
    "        self.register_buffer(\"pe\", pe)\n",
    "\n",
    "    def forward(self, x):\n",
    "      return x + self.pe[:, :x.size(1)]"
   ]
  },
  {
   "cell_type": "code",
   "execution_count": 21,
   "metadata": {},
   "outputs": [],
   "source": [
    "def PadMask(padded_input, input_lengths=None, pad_idx=None):\n",
    "    \"\"\" Create a mask to identify non-padding positions.\n",
    "\n",
    "    Args:\n",
    "        padded_input: The input tensor with padding, shape (N, T, ...) or (N, T).\n",
    "        input_lengths: Optional, the actual lengths of each sequence before padding, shape (N,).\n",
    "        pad_idx: Optional, the index used for padding tokens.\n",
    "\n",
    "    Returns:\n",
    "        A mask tensor with shape (N, T), where non-padding positions are marked with 1 and padding positions are marked with 0.\n",
    "    \"\"\"\n",
    "\n",
    "   # If input is a 2D tensor (N/, T), add an extra dimension\n",
    "    if padded_input.dim() == 2:\n",
    "        padded_input = padded_input.unsqueeze(-1)\n",
    "\n",
    "    # Create the mask\n",
    "    if input_lengths is not None:\n",
    "        # If lengths are provided, use them to create the mask\n",
    "        N, T, _ = padded_input.shape\n",
    "        mask = torch.ones((N, T), dtype=torch.bool)  # Initialize mask to all True (padding)\n",
    "\n",
    "        for i in range(N):\n",
    "            mask[i, :input_lengths[i]] = False  # Set non-padding positions to False\n",
    "    else:\n",
    "        # Otherwise, infer from the padding index\n",
    "        mask = (padded_input.squeeze(-1) == pad_idx)  # Shape (N, T)\n",
    "    return mask\n",
    "\n",
    "\n",
    "\n",
    "def CausalMask(input_tensor):\n",
    "    \"\"\"\n",
    "    Create an attention mask for causal self-attention based on input lengths and target lengths.\n",
    "\n",
    "    Args:\n",
    "        input_tensor (torch.Tensor): The input tensor of shape (N, T, *).\n",
    "\n",
    "    Returns:\n",
    "        attn_mask (torch.Tensor): The causal self-attention mask of shape (T, T)\n",
    "    \"\"\"\n",
    "    T = input_tensor.shape[1] # sequence length\n",
    "    # Self-attention mask: init with all padding\n",
    "    attn_mask   = torch.zeros(T, T, dtype=torch.bool)  # Shape (T, T)\n",
    "    causal_mask = ~torch.tril(torch.ones(T, T)).bool() # Lower triangular matrix\n",
    "    attn_mask   = attn_mask | causal_mask\n",
    "    # Return single-head attention mask without expanding for multi-head\n",
    "    return attn_mask\n",
    "\n",
    "\n",
    "\n"
   ]
  },
  {
   "cell_type": "code",
   "execution_count": 36,
   "metadata": {},
   "outputs": [],
   "source": [
    "class EncoderLayer(nn.Module):\n",
    "\n",
    "    def __init__(self, d_model, num_heads, d_ff, dropout):\n",
    "        super(EncoderLayer, self).__init__()\n",
    "        self.pre_norm = torch.nn.LayerNorm(d_model)\n",
    "        self.self_attn = torch.nn.MultiheadAttention(embed_dim=d_model,\n",
    "                                                     num_heads=num_heads,\n",
    "                                                     dropout=dropout,\n",
    "                                                     batch_first=True)\n",
    "\n",
    "      \n",
    "        self.ffn1 = torch.nn.Sequential(\n",
    "            nn.Linear(d_model, d_ff),\n",
    "            nn.GELU(),\n",
    "            nn.Dropout(dropout),\n",
    "            nn.Linear(d_ff, d_model)\n",
    "        )\n",
    "        self.dropout = nn.Dropout(dropout)\n",
    "   \n",
    "        self.norm1 = torch.nn.LayerNorm(d_model)\n",
    "        self.norm2 = torch.nn.LayerNorm(d_model)\n",
    "\n",
    "    def forward(self, x, pad_mask):\n",
    "        # Self-attention with residual connection and normalization\n",
    "        residual = x\n",
    "        x = self.pre_norm(x)\n",
    "        att_out, att_weights = self.self_attn(query=x, key=x, value=x, need_weights=True, key_padding_mask=pad_mask, is_causal=False)\n",
    "        x = residual +  self.dropout(att_out)\n",
    "        x = self.norm1(x)\n",
    "        residual = x\n",
    "        # First FFN with residual connection and normalization\n",
    "        x = residual + self.dropout(self.ffn1(x))\n",
    "        x = self.norm2(x)\n",
    "        return x, pad_mask\n",
    "\n",
    "\n",
    "class Encoder(nn.Module):\n",
    "    def __init__(self,\n",
    "                 num_layers,\n",
    "                 d_model,\n",
    "                 num_heads,\n",
    "                 d_ff,\n",
    "                 max_len,\n",
    "                 target_vocab_size,\n",
    "                 dropout=0.1):\n",
    "\n",
    "        super(Encoder, self).__init__()\n",
    "        self.pos_encoding = PositionalEncoding(d_model, max_len=max_len)\n",
    "        self.dropout = nn.Dropout(p=dropout)\n",
    "        self.inp_embedding       = torch.nn.Embedding(target_vocab_size, d_model)\n",
    "        self.enc_layers = nn.ModuleList(\n",
    "            [EncoderLayer(d_model, num_heads, d_ff, dropout) for _ in range(num_layers)]\n",
    "        )\n",
    "       \n",
    "        self.after_norm = nn.LayerNorm(d_model, eps=1e-12)\n",
    "        self.ctc_head   = torch.nn.Linear(d_model, target_vocab_size)\n",
    "\n",
    "\n",
    "    def forward(self, x, x_len):\n",
    "        x = self.inp_embedding(x)\n",
    "        pad_mask = PadMask(padded_input=x, input_lengths=x_len).to(x.device)\n",
    "        residual = x\n",
    "        x = self.pos_encoding(x)\n",
    "        ## Apply Dropout\n",
    "        x = self.dropout(x)\n",
    "        # Pass through encoder layers\n",
    "        x = x + residual\n",
    "        for layer in self.enc_layers:\n",
    "            x, pad_mask = layer(x, pad_mask)\n",
    "        x = self.after_norm(x)\n",
    "        x_ctc = self.ctc_head(x)\n",
    "        return x,  x_len, x_ctc.log_softmax(2).permute(1, 0, 2)"
   ]
  },
  {
   "cell_type": "code",
   "execution_count": 84,
   "metadata": {},
   "outputs": [],
   "source": [
    "class DecoderLayer(nn.Module):\n",
    "    def __init__(self, d_model, num_heads, d_ff, dropout=0.1):\n",
    "        super().__init__()\n",
    "\n",
    "        # @TODO: fill in the blanks appropriately (given the modules above)\n",
    "        self.mha1       = nn.MultiheadAttention(embed_dim=d_model,\n",
    "                                                num_heads=num_heads,\n",
    "                                                dropout=dropout,\n",
    "                                                batch_first=True)\n",
    "        self.mha2       = nn.MultiheadAttention(embed_dim=d_model,\n",
    "                                                num_heads=num_heads,\n",
    "                                                dropout=dropout,\n",
    "                                                batch_first=True)\n",
    "        self.ffn        = nn.Sequential(\n",
    "            nn.Linear(d_model, d_ff),\n",
    "            nn.GELU(),\n",
    "            nn.Dropout(dropout),\n",
    "            nn.Linear(d_ff, d_model)\n",
    "        )\n",
    "        self.identity   = nn.Identity()\n",
    "        self.pre_norm   = nn.LayerNorm(d_model)\n",
    "        self.layernorm1 = nn.LayerNorm(d_model)\n",
    "        self.layernorm2 = nn.LayerNorm(d_model)\n",
    "        self.layernorm3 = nn.LayerNorm(d_model)\n",
    "        self.dropout1   = nn.Dropout(dropout)\n",
    "        self.dropout2   = nn.Dropout(dropout)\n",
    "        self.dropout3   = nn.Dropout(dropout)\n",
    "\n",
    "    def forward(self, padded_targets, enc_output, pad_mask_enc, pad_mask_dec, slf_attn_mask):\n",
    "\n",
    "  \n",
    "        x = self.pre_norm(padded_targets)\n",
    "        residual = x\n",
    "        mha1_output, mha1_attn_weights = self.mha1(query=x,\n",
    "                                                   key=x,\n",
    "                                                   value=x,\n",
    "                                                   key_padding_mask=pad_mask_dec,\n",
    "                                                   need_weights=True,\n",
    "                                                   attn_mask=slf_attn_mask,\n",
    "                                                   average_attn_weights=True,\n",
    "                                                   is_causal=True)\n",
    "        mha1_output = residual + self.dropout1(mha1_output)\n",
    "        mha1_output = self.layernorm1(mha1_output)\n",
    "\n",
    "\n",
    "        residual = mha1_output\n",
    "\n",
    "        \n",
    "        mha2_output, mha2_attn_weights = self.mha2(query=mha1_output,\n",
    "                                                key=enc_output,\n",
    "                                                value=enc_output,\n",
    "                                                key_padding_mask=pad_mask_enc,\n",
    "                                                need_weights=True,\n",
    "                                                average_attn_weights=True,\n",
    "                                                is_causal=False)\n",
    "\n",
    "        output = residual + self.dropout2(mha2_output)\n",
    "        output = self.layernorm2(output)\n",
    "\n",
    "\n",
    "        ffn_output = self.ffn(output)\n",
    "        ffn_output = self.dropout3(ffn_output)\n",
    "        ffn_output = ffn_output + output\n",
    "        ffn_output = self.layernorm3(ffn_output)\n",
    "\n",
    "\n",
    "        return ffn_output, mha1_attn_weights, mha2_attn_weights\n",
    "\n",
    "\n",
    "class Decoder(torch.nn.Module):\n",
    "    def __init__(self,\n",
    "                 num_layers,\n",
    "                 d_model,\n",
    "                 num_heads,\n",
    "                 d_ff, dropout,\n",
    "                 max_len,\n",
    "                 target_vocab_size):\n",
    "\n",
    "        super().__init__()\n",
    "\n",
    "        self.max_len        = max_len\n",
    "        self.num_layers     = num_layers\n",
    "        self.num_heads      = num_heads\n",
    "\n",
    "        self.dec_layers = torch.nn.ModuleList(\n",
    "            [DecoderLayer(d_model, num_heads, d_ff, dropout) for _ in range(num_layers)]\n",
    "        )\n",
    "\n",
    "        self.target_embedding       = torch.nn.Embedding(target_vocab_size, d_model)\n",
    "        self.positional_encoding    = PositionalEncoding(d_model=d_model, max_len=max_len)\n",
    "        self.final_linear           = torch.nn.Linear(d_model, target_vocab_size)\n",
    "        self.dropout                = torch.nn.Dropout(dropout)\n",
    "\n",
    "\n",
    "    def forward(self, padded_targets, target_lengths, enc_output, enc_input_lengths):\n",
    "\n",
    "\n",
    "        pad_mask_dec = None\n",
    "        if target_lengths is not None:\n",
    "            pad_mask_dec = PadMask(padded_input=padded_targets, input_lengths=target_lengths).to(padded_targets.device)\n",
    "        causal_mask = CausalMask(input_tensor=padded_targets).to(padded_targets.device)\n",
    "        x = self.target_embedding(padded_targets)\n",
    "        x = self.positional_encoding(x)\n",
    "\n",
    "\n",
    "        pad_mask_enc = None\n",
    "        if enc_output is not None:\n",
    "          pad_mask_enc  = PadMask(padded_input=enc_output, input_lengths=enc_input_lengths).to(enc_output.device)\n",
    "\n",
    "  \n",
    "        runnint_att = {}\n",
    "        for i in range(self.num_layers):\n",
    "            x, runnint_att['layer{}_dec_self'.format(i + 1)], runnint_att['layer{}_dec_cross'.format(i + 1)] = self.dec_layers[i](padded_targets=x,\n",
    "                                                                                                                                enc_output=enc_output,\n",
    "                                                                                                                                pad_mask_enc=pad_mask_enc,\n",
    "                                                                                                                                pad_mask_dec=pad_mask_dec,\n",
    "                                                                                                                                slf_attn_mask=causal_mask)\n",
    "\n",
    "        seq_out = self.final_linear(x)\n",
    "        return seq_out, runnint_att\n",
    "\n",
    "\n",
    "    def recognize_greedy_search(self, enc_output, enc_input_lengths, target_output, target_lengths, tokenizer):\n",
    "\n",
    "        batch_size = target_output.size(0)\n",
    "        target_seq = torch.full((batch_size, 1), 0, dtype=torch.long).to(target_output.device)\n",
    "        finished = torch.zeros(batch_size, dtype=torch.bool).to(target_output.device)\n",
    "\n",
    "        for _ in range(self.max_len):\n",
    "\n",
    "            seq_out, runnint_att = self.forward(target_seq, None, enc_output, enc_input_lengths)\n",
    "            logits = torch.nn.functional.log_softmax(seq_out[:, -1], dim=1)\n",
    "\n",
    "\n",
    "            next_token = logits.argmax(dim=-1).unsqueeze(1)\n",
    "            target_seq = torch.cat([target_seq, next_token], dim=-1)\n",
    "            eos_mask = next_token.squeeze(-1) == 0\n",
    "            finished |= eos_mask\n",
    "            if finished.all(): break\n",
    "\n",
    "        target_seq = target_seq[:, 1:]\n",
    "        max_length = target_seq.size(1)\n",
    "        target_seq = torch.nn.functional.pad(target_seq,\n",
    "            (0, self.max_len - max_length), value=1)\n",
    "\n",
    "        return target_seq\n"
   ]
  },
  {
   "cell_type": "code",
   "execution_count": 85,
   "metadata": {},
   "outputs": [],
   "source": [
    "class Transformer(nn.Module):\n",
    "    def __init__(self,\n",
    "\n",
    "                 \n",
    "                 d_model,\n",
    "                 enc_num_layers,\n",
    "                 enc_num_heads,\n",
    "                 enc_max_len,\n",
    "                 enc_dropout,\n",
    "\n",
    "                 dec_num_layers,\n",
    "                 dec_num_heads,\n",
    "                 d_ff,\n",
    "                 dec_dropout,\n",
    "\n",
    "                 target_vocab_size,\n",
    "                 trans_max_len):\n",
    "\n",
    "        super(Transformer, self).__init__()\n",
    "\n",
    "        \n",
    "\n",
    "        self.encoder   = Encoder(\n",
    "            num_layers=enc_num_layers,\n",
    "            d_model=d_model,\n",
    "            num_heads=enc_num_heads,\n",
    "            d_ff=d_ff,\n",
    "            max_len=enc_max_len,\n",
    "            target_vocab_size=target_vocab_size,\n",
    "            dropout=enc_dropout\n",
    "        )\n",
    "\n",
    "        self.decoder = Decoder(\n",
    "            num_layers=dec_num_layers,\n",
    "            d_model=d_model,\n",
    "            num_heads=dec_num_heads,\n",
    "            d_ff=d_ff,\n",
    "            max_len=trans_max_len,\n",
    "            target_vocab_size=target_vocab_size,\n",
    "            dropout=dec_dropout\n",
    "        )\n",
    "\n",
    "\n",
    "    def forward(self, padded_input, input_lengths, padded_target, target_lengths):\n",
    "        \n",
    "        \n",
    "        encoder_output, encoder_lengths, ctc_out = self.encoder(padded_input, input_lengths)\n",
    "        \n",
    "\n",
    "        output, attention_weights = self.decoder(padded_target, target_lengths, encoder_output, encoder_lengths)\n",
    "        return output, attention_weights, ctc_out\n",
    "\n",
    "\n",
    "    def recognize(self, inp, inp_len, target, target_len, tokenizer):\n",
    "        \n",
    "  \n",
    "        encoder_output, encoder_lengths, ctc_out = self.encoder(inp, inp_len)\n",
    "        \n",
    "\n",
    "        out = self.decoder.recognize_greedy_search(encoder_output, encoder_lengths, target, target_len, tokenizer=tokenizer)\n",
    "        return out"
   ]
  },
  {
   "cell_type": "code",
   "execution_count": 86,
   "metadata": {},
   "outputs": [
    {
     "data": {
      "text/plain": [
       "119547"
      ]
     },
     "execution_count": 86,
     "metadata": {},
     "output_type": "execute_result"
    }
   ],
   "source": [
    "tokenizer.vocab_size"
   ]
  },
  {
   "cell_type": "code",
   "execution_count": 87,
   "metadata": {},
   "outputs": [
    {
     "data": {
      "text/plain": [
       "===============================================================================================\n",
       "Layer (type:depth-idx)                        Output Shape              Param #\n",
       "===============================================================================================\n",
       "Transformer                                   [32, 121, 119547]         --\n",
       "├─Encoder: 1-1                                [32, 124, 256]            --\n",
       "│    └─Embedding: 2-1                         [32, 124, 256]            30,604,032\n",
       "│    └─PositionalEncoding: 2-2                [32, 124, 256]            --\n",
       "│    └─Dropout: 2-3                           [32, 124, 256]            --\n",
       "│    └─ModuleList: 2-4                        --                        --\n",
       "│    │    └─EncoderLayer: 3-1                 [32, 124, 256]            790,272\n",
       "│    │    └─EncoderLayer: 3-2                 [32, 124, 256]            790,272\n",
       "│    │    └─EncoderLayer: 3-3                 [32, 124, 256]            790,272\n",
       "│    │    └─EncoderLayer: 3-4                 [32, 124, 256]            790,272\n",
       "│    └─LayerNorm: 2-5                         [32, 124, 256]            512\n",
       "│    └─Linear: 2-6                            [32, 124, 119547]         30,723,579\n",
       "├─Decoder: 1-2                                [32, 121, 119547]         --\n",
       "│    └─Embedding: 2-7                         [32, 121, 256]            30,604,032\n",
       "│    └─PositionalEncoding: 2-8                [32, 121, 256]            --\n",
       "│    └─ModuleList: 2-9                        --                        --\n",
       "│    │    └─DecoderLayer: 3-5                 [32, 121, 256]            1,053,952\n",
       "│    │    └─DecoderLayer: 3-6                 [32, 121, 256]            1,053,952\n",
       "│    │    └─DecoderLayer: 3-7                 [32, 121, 256]            1,053,952\n",
       "│    │    └─DecoderLayer: 3-8                 [32, 121, 256]            1,053,952\n",
       "│    └─Linear: 2-10                           [32, 121, 119547]         30,723,579\n",
       "===============================================================================================\n",
       "Total params: 130,032,630\n",
       "Trainable params: 130,032,630\n",
       "Non-trainable params: 0\n",
       "Total mult-adds (Units.GIGABYTES): 4.06\n",
       "===============================================================================================\n",
       "Input size (MB): 0.06\n",
       "Forward/backward pass size (MB): 8067.69\n",
       "Params size (MB): 507.50\n",
       "Estimated Total Size (MB): 8575.25\n",
       "==============================================================================================="
      ]
     },
     "execution_count": 87,
     "metadata": {},
     "output_type": "execute_result"
    }
   ],
   "source": [
    "model = Transformer(\n",
    "    \n",
    "    d_model        = config['d_model'],\n",
    "    enc_num_layers = config['enc_num_layers'],\n",
    "    enc_num_heads  = config['enc_num_heads'],\n",
    "    enc_max_len    = MAX_INP_LEN,\n",
    "    enc_dropout    = config['enc_dropout'],\n",
    "    dec_num_layers = config['dec_num_layers'],\n",
    "    dec_num_heads  = config['dec_num_heads'],\n",
    "    d_ff           = config['d_ff'],\n",
    "    dec_dropout    = config['dec_dropout'],\n",
    "    target_vocab_size = tokenizer.vocab_size,\n",
    "    trans_max_len     = MAX_TRANS_LEN\n",
    ")\n",
    "\n",
    "summary(model.to(device), input_data=[x_pad.to(device), x_len.to(device), y_shifted_pad.to(device), y_len.to(device)])"
   ]
  },
  {
   "cell_type": "code",
   "execution_count": 88,
   "metadata": {},
   "outputs": [],
   "source": [
    "import torchaudio.functional as aF"
   ]
  },
  {
   "cell_type": "code",
   "execution_count": null,
   "metadata": {},
   "outputs": [],
   "source": [
    "def calculateMetrics(reference, hypothesis):\n",
    "        dist = aF.edit_distance(reference, hypothesis)\n",
    "        ref_words = reference.split()\n",
    "        hyp_words = hypothesis.split()\n",
    "        dist = aF.edit_distance(ref_words, hyp_words)\n",
    "        wer = dist / len(ref_words)\n",
    "        ref_chars = list(reference)\n",
    "        hyp_chars = list(hypothesis)\n",
    "        dist = aF.edit_distance(ref_chars, hyp_chars)\n",
    "        cer = dist / len(ref_chars)\n",
    "        return dist, wer, cer\n",
    "\n",
    "\n",
    "def calculateBatchMetrics(predictions, y, y_len, tokenizer):\n",
    "    '''\n",
    "    Calculate levenshtein distance, WER, CER for a batch\n",
    "    predictions (Tensor) : the model predictions\n",
    "    y (Tensor) : the target transcript\n",
    "    y_len (Tensor) : Length of the target transcript (non-padded positions)\n",
    "    '''\n",
    "    batch_size, _  = predictions.shape\n",
    "    dist, wer, cer = 0., 0., 0.\n",
    "    for batch_idx in range(batch_size):\n",
    "\n",
    "        pad_indices = torch.where(predictions[batch_idx] == 1)[0]\n",
    "        if pad_indices.numel() > 0:\n",
    "            lowest_pad_idx = pad_indices.min().item()\n",
    "        else:\n",
    "            lowest_pad_idx = len(predictions[batch_idx])\n",
    "        pred_trimmed = predictions[batch_idx, :lowest_pad_idx]\n",
    "\n",
    "\n",
    "        y_trimmed   = y[batch_idx, 0 : y_len[batch_idx]-1]\n",
    "\n",
    "        pred_string  = tokenizer.decode(pred_trimmed)\n",
    "        y_string     = tokenizer.decode(y_trimmed)\n",
    "\n",
    "        curr_dist, curr_wer, curr_cer = calculateMetrics(y_string, pred_string)\n",
    "        dist += curr_dist\n",
    "        wer  += curr_wer\n",
    "        cer  += curr_cer\n",
    "\n",
    "    dist /= batch_size\n",
    "    wer  /= batch_size\n",
    "    cer  /= batch_size\n",
    "    return dist, wer, cer, y_string, pred_string"
   ]
  },
  {
   "cell_type": "code",
   "execution_count": 97,
   "metadata": {},
   "outputs": [],
   "source": [
    "import matplotlib.pyplot as plt\n",
    "import seaborn as sns"
   ]
  },
  {
   "cell_type": "code",
   "execution_count": null,
   "metadata": {},
   "outputs": [],
   "source": [
    "def save_attention_plot(plot_path, attention_weights, epoch=0):\n",
    "    ''' function for saving attention weights plot to a file\n",
    "\n",
    "        @NOTE: default starter code set to save cross attention\n",
    "    '''\n",
    "    plt.clf() \n",
    "    sns.heatmap(attention_weights, cmap=\"viridis\")  # Create heatmap\n",
    "\n",
    "    if epoch<100:\n",
    "        plt.savefig(f\"{plot_path}/cross_attention-epoch{epoch}.png\")\n",
    "    else :\n",
    "        plt.savefig(f\"{plot_path}/self_attention-epoch{epoch-100}.png\")\n",
    "\n",
    "\n",
    "\n",
    "def save_model(model, optimizer, scheduler, metric, epoch, path):\n",
    "      torch.save(\n",
    "          {\"model_state_dict\"        : model.state_dict(),\n",
    "          \"optimizer_state_dict\"     : optimizer.state_dict(),\n",
    "          \"scheduler_state_dict\"     : scheduler.state_dict() if scheduler is not None else {},\n",
    "          metric[0]                  : metric[1],\n",
    "          \"epoch\"                    : epoch},\n",
    "          path\n",
    "      )\n",
    "\n",
    "\n",
    "def load_checkpoint(checkpoint_path,\n",
    "                    model,\n",
    "                    embedding_load:bool,\n",
    "                    encoder_load:bool,\n",
    "                    decoder_load:bool):\n",
    " \n",
    "    checkpoint = torch.load(checkpoint_path)\n",
    "\n",
    "    model_state_dict = model.state_dict()\n",
    "    embedding_state_dict = {k: v for k, v in checkpoint['model_state_dict'].items() if k.startswith(\"embedding\")}\n",
    "    encoder_state_dict   = {k: v for k, v in checkpoint['model_state_dict'].items() if k.startswith(\"encoder\")}\n",
    "    decoder_state_dict   = {k: v for k, v in checkpoint['model_state_dict'].items() if k.startswith(\"decoder\")}\n",
    "\n",
    "    if embedding_load:\n",
    "      model_state_dict.update(embedding_state_dict)\n",
    "    if encoder_load:\n",
    "      model_state_dict.update(encoder_state_dict)\n",
    "    if decoder_load:\n",
    "      model_state_dict.update(decoder_state_dict)\n",
    "\n",
    "    model.load_state_dict(model_state_dict, strict=False)\n",
    "    s0 = \"Embedding\" if embedding_load else \"\"\n",
    "    s1 = \"Encoder\" if encoder_load else \"\"\n",
    "    s2 = \"Decoder\" if decoder_load else \"\"\n",
    "    print(\"Loaded: \", f'{s0}, {s1}, {s2}')"
   ]
  },
  {
   "cell_type": "code",
   "execution_count": null,
   "metadata": {},
   "outputs": [],
   "source": [
    "def train_step(model,\n",
    "               criterion,\n",
    "               ctc_loss,\n",
    "               ctc_weight,\n",
    "               optimizer,\n",
    "               scheduler,\n",
    "               scaler,\n",
    "               device,\n",
    "               train_loader,\n",
    "               tokenizer):\n",
    "\n",
    "        model.train()\n",
    "        batch_bar = tqdm(total=len(train_loader), dynamic_ncols=True, leave=False, position=0)\n",
    "\n",
    "        running_loss        = 0.0\n",
    "        running_perplexity  = 0.0\n",
    "\n",
    "        for i, batch in enumerate(train_loader):\n",
    "\n",
    "            optimizer.zero_grad()\n",
    "           \n",
    "            inputs, targets_shifted, targets_golden, inputs_lengths, targets_lengths, _ = batch\n",
    "            inputs          = inputs.to(device)\n",
    "        \n",
    "            targets_shifted = targets_shifted.to(device)\n",
    "            targets_golden  = targets_golden.to(device)\n",
    "\n",
    "            with torch.autocast(device_type=device, dtype=torch.float16):\n",
    "                raw_predictions, attention_weights, ctc_out = model(inputs, inputs_lengths, targets_shifted, targets_lengths)\n",
    "                padding_mask = torch.logical_not(torch.eq(targets_shifted, 1))\n",
    "\n",
    "                loss = criterion(raw_predictions.transpose(1,2), targets_golden)*padding_mask\n",
    "                loss = loss.sum() / padding_mask.sum()\n",
    "\n",
    "                if ctc_loss is not None and ctc_out is not None:\n",
    "                  inputs_lengths = torch.ceil(inputs_lengths.float() / model.embedding.time_downsampling_factor).int()\n",
    "                  inputs_lengths = inputs_lengths.clamp(max=ctc_out.size(0))\n",
    "                  loss = loss + ctc_weight * ctc_loss(ctc_out, targets_golden, inputs_lengths, targets_lengths)\n",
    "\n",
    "            scaler.scale(loss).backward() \n",
    "            scaler.step(optimizer)        \n",
    "            scaler.update()             \n",
    "            perplexity           = torch.exp(loss)\n",
    "            running_perplexity  += perplexity.item()\n",
    "\n",
    "            batch_bar.set_postfix(\n",
    "                loss = \"{:.04f}\".format(float(running_loss / (i + 1))),\n",
    "                perplexity = \"{:.04f}\".format(float(running_perplexity / (i + 1)))\n",
    "            )\n",
    "\n",
    "            batch_bar.update()\n",
    "\n",
    "            del inputs, targets_shifted, targets_golden, inputs_lengths, targets_lengths\n",
    "            torch.cuda.empty_cache()\n",
    "\n",
    "        running_loss        = float(running_loss / len(train_loader))\n",
    "        running_perplexity  = float(running_perplexity / len(train_loader))\n",
    "        batch_bar.close()\n",
    "        return running_loss, running_perplexity, attention_weights\n",
    "\n",
    "\n",
    "\n",
    "def validate_step(model, val_loader, tokenizer, device,  threshold=5):\n",
    "      model.eval()\n",
    "      batch_bar = tqdm(total=len(val_loader), dynamic_ncols=True, leave=False, position=0, desc=\"Val\", ncols=5)\n",
    "\n",
    "      running_distance = 0.0\n",
    "      running_wer = 0.0\n",
    "      running_cer = 0.0\n",
    "      json_output = {}\n",
    "\n",
    "      for i, batch in enumerate(val_loader):\n",
    "\n",
    "          \n",
    "            inputs, targets_shifted, targets_golden, inputs_lengths, targets_lengths, _ = batch\n",
    "            inputs          = inputs.to(device)\n",
    "            \n",
    "            targets_shifted = targets_shifted.to(device)\n",
    "            targets_golden  = targets_golden.to(device)\n",
    "\n",
    "            with torch.inference_mode():\n",
    "                greedy_predictions = model.recognize(inputs, inputs_lengths, targets_shifted, targets_lengths, tokenizer=tokenizer)\n",
    "\n",
    "            dist, wer, cer, y_string, pred_string = calculateBatchMetrics(greedy_predictions, targets_golden, targets_lengths, tokenizer)\n",
    "            running_distance += dist\n",
    "            running_wer += wer\n",
    "            running_cer += cer\n",
    "\n",
    "            json_output[i] = {\n",
    "                \"Input\": y_string,\n",
    "                \"Output\": pred_string\n",
    "            }\n",
    "\n",
    "            batch_bar.set_postfix(\n",
    "                running_distance = \"{:.04f}\".format(float(running_distance / (i + 1))),\n",
    "                WER = \"{:.04f}\".format(float(running_wer / (i + 1))),\n",
    "                CER = \"{:.04f}\".format(float(running_cer / (i + 1)))\n",
    "            )\n",
    "\n",
    "            batch_bar.update()\n",
    "\n",
    "            del inputs, targets_shifted, targets_golden, inputs_lengths, targets_lengths\n",
    "            torch.cuda.empty_cache()\n",
    "\n",
    "            if threshold is not None:\n",
    "                if i==threshold: break      # validating only upon first five batches\n",
    "\n",
    "      batch_bar.close()\n",
    "      if threshold is not None:\n",
    "        running_distance /= (threshold+1)\n",
    "        running_wer /= (threshold+1)\n",
    "        running_cer /= (threshold+1)\n",
    "      else:\n",
    "        running_distance /= len(val_loader)\n",
    "        running_wer /= len(val_loader)\n",
    "        running_cer /= len(val_loader)\n",
    "\n",
    "      return running_distance, json_output, running_wer, running_cer"
   ]
  },
  {
   "cell_type": "code",
   "execution_count": null,
   "metadata": {},
   "outputs": [
    {
     "name": "stderr",
     "output_type": "stream",
     "text": [
      "/tmp/ipykernel_449302/2603785494.py:5: FutureWarning: `torch.cuda.amp.GradScaler(args...)` is deprecated. Please use `torch.amp.GradScaler('cuda', args...)` instead.\n",
      "  scaler      = torch.cuda.amp.GradScaler()\n"
     ]
    }
   ],
   "source": [
    "loss_func   = nn.CrossEntropyLoss(ignore_index = 1)\n",
    "ctc_loss_fn  = None\n",
    "if config['use_ctc']:\n",
    "  ctc_loss_fn = nn.CTCLoss(blank=1)\n",
    "scaler      = torch.cuda.amp.GradScaler()\n",
    "\n",
    "def get_optimizer():\n",
    "    optimizer = None\n",
    "    if config[\"optimizer\"] == \"SGD\":\n",
    "        optimizer = torch.optim.SGD(model.parameters(),\n",
    "                                    lr=config[\"learning_rate\"],\n",
    "                                    momentum=config[\"momentum\"],\n",
    "                                    weight_decay=1E-4,\n",
    "                                    nesterov=config[\"nesterov\"])\n",
    "\n",
    "    elif config[\"optimizer\"] == \"Adam\":\n",
    "        optimizer = torch.optim.Adam(model.parameters(),\n",
    "                                    lr=float(config[\"learning_rate\"]),weight_decay=0.01 )\n",
    "\n",
    "    elif config[\"optimizer\"] == \"AdamW\":\n",
    "        optimizer = torch.optim.AdamW(model.parameters(),\n",
    "                                    lr=float(config[\"learning_rate\"]),\n",
    "                                    weight_decay=0.01)\n",
    "    return optimizer\n",
    "optimizer = get_optimizer()\n",
    "assert optimizer!=None\n",
    "\n",
    "def get_scheduler():\n",
    "    scheduler  =  None\n",
    "    if config[\"scheduler\"] == \"ReduceLR\":\n",
    "        scheduler = torch.optim.lr_scheduler.ReduceLROnPlateau(optimizer,\n",
    "                        factor=config[\"factor\"], patience=config[\"patience\"], min_lr=1E-8, threshold=1E-1)\n",
    "\n",
    "    elif config[\"scheduler\"] == \"CosineAnnealing\":\n",
    "        scheduler = torch.optim.lr_scheduler.CosineAnnealingLR(optimizer,\n",
    "                        T_max = config[\"epochs\"], eta_min=1E-8)\n",
    "    return scheduler\n",
    "\n",
    "scheduler = get_scheduler()\n",
    "assert scheduler!=None"
   ]
  },
  {
   "cell_type": "code",
   "execution_count": null,
   "metadata": {},
   "outputs": [
    {
     "name": "stderr",
     "output_type": "stream",
     "text": [
      "                                          \r"
     ]
    },
    {
     "data": {
      "text/plain": [
       "1607"
      ]
     },
     "execution_count": 101,
     "metadata": {},
     "output_type": "execute_result"
    }
   ],
   "source": [
    "import os\n",
    "import wandb\n",
    "import shutil\n",
    "USE_WANDB = False\n",
    "RESUME_LOGGING = False\n",
    "\n",
    "\n",
    "run_name = \"Proj-{}-{}_DEC-{}-{}_{}_{}_{}_{}_token_greedy\".format(\n",
    "    config[\"Name\"],\n",
    "    config[\"enc_num_layers\"],\n",
    "    config[\"enc_num_heads\"],\n",
    "    config[\"dec_num_layers\"],\n",
    "    config[\"dec_num_heads\"],\n",
    "    config[\"d_model\"],\n",
    "    config[\"d_ff\"],\n",
    "    config[\"optimizer\"],\n",
    "    config[\"scheduler\"],\n",
    "   \n",
    "    )\n",
    "\n",
    "expt_root = os.path.join(os.getcwd(), run_name)\n",
    "os.makedirs(expt_root, exist_ok=True)\n",
    "\n",
    "if USE_WANDB:\n",
    "    wandb.login(key=\"enter_your_key\", relogin=True) \n",
    "\n",
    "    if RESUME_LOGGING:\n",
    "        run_id = \"\"\n",
    "        run = wandb.init(\n",
    "            id     = run_id,        \n",
    "            resume = True,         \n",
    "            project = \"IDL Project\",  \n",
    "        )\n",
    "\n",
    "    else:\n",
    "        run = wandb.init(\n",
    "            name    = run_name,    \n",
    "            reinit  = True,       \n",
    "            project = \"Project\", \n",
    "            config  = config       \n",
    "        )\n",
    "\n",
    "        model_arch  = str(model)\n",
    "        ### Save it in a txt file\n",
    "        model_path = os.path.join(expt_root, \"model_arch.txt\")\n",
    "        arch_file   = open(model_path, \"w\")\n",
    "        file_write  = arch_file.write(model_arch)\n",
    "        arch_file.close()\n",
    "\n",
    "\n",
    "shutil.copy(os.path.join(os.getcwd(), 'config.yaml'), os.path.join(expt_root, 'config.yaml'))\n",
    "e                   = 0\n",
    "best_loss           = 10.0\n",
    "best_perplexity     = 10.0\n",
    "best_dist = 60\n",
    "RESUME_LOGGING = False\n",
    "checkpoint_root = os.path.join(expt_root, 'checkpoints')\n",
    "text_root       = os.path.join(expt_root, 'out_text')\n",
    "attn_img_root   = os.path.join(expt_root, 'attention_imgs')\n",
    "os.makedirs(checkpoint_root, exist_ok=True)\n",
    "os.makedirs(attn_img_root,   exist_ok=True)\n",
    "os.makedirs(text_root,       exist_ok=True)\n",
    "checkpoint_best_loss_model_filename     = 'checkpoint-best-loss-modelfull.pth'\n",
    "checkpoint_last_epoch_filename          = 'checkpoint-epochfull-'\n",
    "best_loss_model_path                    = os.path.join(checkpoint_root, checkpoint_best_loss_model_filename)\n",
    "\n",
    "\n",
    "if USE_WANDB:\n",
    "    wandb.watch(model, log=\"all\")\n",
    "\n",
    "if RESUME_LOGGING:\n",
    "    # change if you want to load best test model accordingly\n",
    "    checkpoint = torch.load(wandb.restore(checkpoint_best_loss_model_filename, run_path=\"\"+run_id).name)\n",
    "\n",
    "    model.load_state_dict(checkpoint['model_state_dict'])\n",
    "    optimizer.load_state_dict(checkpoint['optimizer_state_dict'])\n",
    "    e = checkpoint['epoch']\n",
    "\n",
    "    print(\"Resuming from epoch {}\".format(e+1))\n",
    "    print(\"Epochs left: \", config['epochs']-e)\n",
    "    print(\"Optimizer: \\n\", optimizer)\n",
    "\n",
    "torch.cuda.empty_cache()\n",
    "gc.collect()"
   ]
  },
  {
   "cell_type": "code",
   "execution_count": 103,
   "metadata": {},
   "outputs": [],
   "source": [
    "import json"
   ]
  },
  {
   "cell_type": "code",
   "execution_count": null,
   "metadata": {},
   "outputs": [
    {
     "name": "stdout",
     "output_type": "stream",
     "text": [
      "\n",
      "Epoch 1/100\n"
     ]
    },
    {
     "name": "stderr",
     "output_type": "stream",
     "text": [
      "                                                                                \r"
     ]
    },
    {
     "name": "stdout",
     "output_type": "stream",
     "text": [
      "\n",
      "Epoch 1/100: \n",
      "Train Loss 2.1268\t Train Perplexity 8.7983\t Learning Rate 0.000200\n"
     ]
    },
    {
     "name": "stderr",
     "output_type": "stream",
     "text": [
      "                                                                                                    \r"
     ]
    },
    {
     "name": "stdout",
     "output_type": "stream",
     "text": [
      "Levenshtein Distance : 82.0365\n",
      "WER                  : 1.0000\n",
      "CER                  : 0.9759\n",
      "\n",
      "Epoch 2/100\n"
     ]
    },
    {
     "name": "stderr",
     "output_type": "stream",
     "text": [
      "                                                                               \r"
     ]
    },
    {
     "name": "stdout",
     "output_type": "stream",
     "text": [
      "\n",
      "Epoch 2/100: \n",
      "Train Loss 1.3489\t Train Perplexity 3.9324\t Learning Rate 0.000200\n"
     ]
    },
    {
     "name": "stderr",
     "output_type": "stream",
     "text": [
      "                                                                                                    \r"
     ]
    },
    {
     "name": "stdout",
     "output_type": "stream",
     "text": [
      "Levenshtein Distance : 82.0365\n",
      "WER                  : 1.0000\n",
      "CER                  : 0.9759\n",
      "\n",
      "Epoch 3/100\n"
     ]
    },
    {
     "name": "stderr",
     "output_type": "stream",
     "text": [
      "                                                                               \r"
     ]
    },
    {
     "name": "stdout",
     "output_type": "stream",
     "text": [
      "\n",
      "Epoch 3/100: \n",
      "Train Loss 0.7955\t Train Perplexity 2.2381\t Learning Rate 0.000200\n"
     ]
    },
    {
     "name": "stderr",
     "output_type": "stream",
     "text": [
      "                                                                                                    \r"
     ]
    },
    {
     "name": "stdout",
     "output_type": "stream",
     "text": [
      "Levenshtein Distance : 82.0365\n",
      "WER                  : 1.0000\n",
      "CER                  : 0.9759\n",
      "\n",
      "Epoch 4/100\n"
     ]
    },
    {
     "name": "stderr",
     "output_type": "stream",
     "text": [
      "                                                                               \r"
     ]
    },
    {
     "name": "stdout",
     "output_type": "stream",
     "text": [
      "\n",
      "Epoch 4/100: \n",
      "Train Loss 0.4339\t Train Perplexity 1.5495\t Learning Rate 0.000200\n"
     ]
    },
    {
     "name": "stderr",
     "output_type": "stream",
     "text": [
      "                                                                                                    \r"
     ]
    },
    {
     "name": "stdout",
     "output_type": "stream",
     "text": [
      "Levenshtein Distance : 82.0365\n",
      "WER                  : 1.0000\n",
      "CER                  : 0.9759\n",
      "\n",
      "Epoch 5/100\n"
     ]
    },
    {
     "name": "stderr",
     "output_type": "stream",
     "text": [
      "                                                                               \r"
     ]
    },
    {
     "name": "stdout",
     "output_type": "stream",
     "text": [
      "\n",
      "Epoch 5/100: \n",
      "Train Loss 0.2359\t Train Perplexity 1.2671\t Learning Rate 0.000199\n"
     ]
    },
    {
     "name": "stderr",
     "output_type": "stream",
     "text": [
      "                                                                                                    \r"
     ]
    },
    {
     "name": "stdout",
     "output_type": "stream",
     "text": [
      "Levenshtein Distance : 82.0365\n",
      "WER                  : 1.0000\n",
      "CER                  : 0.9759\n",
      "\n",
      "Epoch 6/100\n"
     ]
    },
    {
     "name": "stderr",
     "output_type": "stream",
     "text": [
      "                                                                               \r"
     ]
    },
    {
     "name": "stdout",
     "output_type": "stream",
     "text": [
      "\n",
      "Epoch 6/100: \n",
      "Train Loss 0.1420\t Train Perplexity 1.1529\t Learning Rate 0.000199\n"
     ]
    },
    {
     "name": "stderr",
     "output_type": "stream",
     "text": [
      "                                                                                                    \r"
     ]
    },
    {
     "name": "stdout",
     "output_type": "stream",
     "text": [
      "Levenshtein Distance : 82.0365\n",
      "WER                  : 1.0000\n",
      "CER                  : 0.9759\n",
      "\n",
      "Epoch 7/100\n"
     ]
    },
    {
     "name": "stderr",
     "output_type": "stream",
     "text": [
      "                                                                               \r"
     ]
    },
    {
     "name": "stdout",
     "output_type": "stream",
     "text": [
      "\n",
      "Epoch 7/100: \n",
      "Train Loss 0.0934\t Train Perplexity 1.0980\t Learning Rate 0.000198\n"
     ]
    },
    {
     "name": "stderr",
     "output_type": "stream",
     "text": [
      "                                                                                                    \r"
     ]
    },
    {
     "name": "stdout",
     "output_type": "stream",
     "text": [
      "Levenshtein Distance : 82.0365\n",
      "WER                  : 1.0000\n",
      "CER                  : 0.9759\n",
      "\n",
      "Epoch 8/100\n"
     ]
    },
    {
     "name": "stderr",
     "output_type": "stream",
     "text": [
      "                                                                               \r"
     ]
    },
    {
     "name": "stdout",
     "output_type": "stream",
     "text": [
      "\n",
      "Epoch 8/100: \n",
      "Train Loss 0.0684\t Train Perplexity 1.0708\t Learning Rate 0.000198\n"
     ]
    },
    {
     "name": "stderr",
     "output_type": "stream",
     "text": [
      "                                                                                                    \r"
     ]
    },
    {
     "name": "stdout",
     "output_type": "stream",
     "text": [
      "Levenshtein Distance : 82.0365\n",
      "WER                  : 1.0000\n",
      "CER                  : 0.9759\n",
      "\n",
      "Epoch 9/100\n"
     ]
    },
    {
     "name": "stderr",
     "output_type": "stream",
     "text": [
      "                                                                               \r"
     ]
    },
    {
     "name": "stdout",
     "output_type": "stream",
     "text": [
      "\n",
      "Epoch 9/100: \n",
      "Train Loss 0.0535\t Train Perplexity 1.0550\t Learning Rate 0.000197\n"
     ]
    },
    {
     "name": "stderr",
     "output_type": "stream",
     "text": [
      "                                                                                                    \r"
     ]
    },
    {
     "name": "stdout",
     "output_type": "stream",
     "text": [
      "Levenshtein Distance : 82.0365\n",
      "WER                  : 1.0000\n",
      "CER                  : 0.9759\n",
      "\n",
      "Epoch 10/100\n"
     ]
    },
    {
     "name": "stderr",
     "output_type": "stream",
     "text": [
      "                                                                               \r"
     ]
    },
    {
     "name": "stdout",
     "output_type": "stream",
     "text": [
      "\n",
      "Epoch 10/100: \n",
      "Train Loss 0.0434\t Train Perplexity 1.0444\t Learning Rate 0.000196\n"
     ]
    },
    {
     "name": "stderr",
     "output_type": "stream",
     "text": [
      "                                                                                                    \r"
     ]
    },
    {
     "name": "stdout",
     "output_type": "stream",
     "text": [
      "Levenshtein Distance : 82.0365\n",
      "WER                  : 1.0000\n",
      "CER                  : 0.9759\n",
      "\n",
      "Epoch 11/100\n"
     ]
    },
    {
     "name": "stderr",
     "output_type": "stream",
     "text": [
      "                                                                               \r"
     ]
    },
    {
     "name": "stdout",
     "output_type": "stream",
     "text": [
      "\n",
      "Epoch 11/100: \n",
      "Train Loss 0.0364\t Train Perplexity 1.0371\t Learning Rate 0.000195\n"
     ]
    },
    {
     "name": "stderr",
     "output_type": "stream",
     "text": [
      "                                                                                                    \r"
     ]
    },
    {
     "name": "stdout",
     "output_type": "stream",
     "text": [
      "Levenshtein Distance : 82.0365\n",
      "WER                  : 1.0000\n",
      "CER                  : 0.9759\n",
      "\n",
      "Epoch 12/100\n"
     ]
    },
    {
     "name": "stderr",
     "output_type": "stream",
     "text": [
      "                                                                               \r"
     ]
    },
    {
     "name": "stdout",
     "output_type": "stream",
     "text": [
      "\n",
      "Epoch 12/100: \n",
      "Train Loss 0.0309\t Train Perplexity 1.0314\t Learning Rate 0.000194\n"
     ]
    },
    {
     "name": "stderr",
     "output_type": "stream",
     "text": [
      "                                                                                                    \r"
     ]
    },
    {
     "name": "stdout",
     "output_type": "stream",
     "text": [
      "Levenshtein Distance : 82.0365\n",
      "WER                  : 1.0000\n",
      "CER                  : 0.9759\n",
      "\n",
      "Epoch 13/100\n"
     ]
    },
    {
     "name": "stderr",
     "output_type": "stream",
     "text": [
      "                                                                               \r"
     ]
    },
    {
     "name": "stdout",
     "output_type": "stream",
     "text": [
      "\n",
      "Epoch 13/100: \n",
      "Train Loss 0.0271\t Train Perplexity 1.0275\t Learning Rate 0.000193\n"
     ]
    },
    {
     "name": "stderr",
     "output_type": "stream",
     "text": [
      "                                                                                                    \r"
     ]
    },
    {
     "name": "stdout",
     "output_type": "stream",
     "text": [
      "Levenshtein Distance : 82.0365\n",
      "WER                  : 1.0000\n",
      "CER                  : 0.9759\n",
      "\n",
      "Epoch 14/100\n"
     ]
    },
    {
     "name": "stderr",
     "output_type": "stream",
     "text": [
      "                                                                               \r"
     ]
    },
    {
     "name": "stdout",
     "output_type": "stream",
     "text": [
      "\n",
      "Epoch 14/100: \n",
      "Train Loss 0.0239\t Train Perplexity 1.0242\t Learning Rate 0.000192\n"
     ]
    },
    {
     "name": "stderr",
     "output_type": "stream",
     "text": [
      "                                                                                                    \r"
     ]
    },
    {
     "name": "stdout",
     "output_type": "stream",
     "text": [
      "Levenshtein Distance : 82.0365\n",
      "WER                  : 1.0000\n",
      "CER                  : 0.9759\n"
     ]
    },
    {
     "ename": "KeyboardInterrupt",
     "evalue": "",
     "output_type": "error",
     "traceback": [
      "\u001b[0;31m---------------------------------------------------------------------------\u001b[0m",
      "\u001b[0;31mKeyboardInterrupt\u001b[0m                         Traceback (most recent call last)",
      "Cell \u001b[0;32mIn[105], line 69\u001b[0m\n\u001b[1;32m     67\u001b[0m \u001b[38;5;66;03m### Highly Recommended: Save checkpoint in drive and/or wandb if accuracy is better than your current best\u001b[39;00m\n\u001b[1;32m     68\u001b[0m epoch_model_path \u001b[38;5;241m=\u001b[39m os\u001b[38;5;241m.\u001b[39mpath\u001b[38;5;241m.\u001b[39mjoin(checkpoint_root, (checkpoint_last_epoch_filename \u001b[38;5;241m+\u001b[39m \u001b[38;5;28mstr\u001b[39m(epoch) \u001b[38;5;241m+\u001b[39m \u001b[38;5;124m'\u001b[39m\u001b[38;5;124m.pth\u001b[39m\u001b[38;5;124m'\u001b[39m))\n\u001b[0;32m---> 69\u001b[0m save_model(model, optimizer, scheduler, [\u001b[38;5;124m'\u001b[39m\u001b[38;5;124mtrain_loss\u001b[39m\u001b[38;5;124m'\u001b[39m, train_loss], epoch, epoch_model_path)\n\u001b[1;32m     71\u001b[0m \u001b[38;5;28;01mif\u001b[39;00m best_dist \u001b[38;5;241m>\u001b[39m\u001b[38;5;241m=\u001b[39m levenshtein_distance:\n\u001b[1;32m     72\u001b[0m     best_loss \u001b[38;5;241m=\u001b[39m train_loss\n",
      "Cell \u001b[0;32mIn[98], line 18\u001b[0m, in \u001b[0;36msave_model\u001b[0;34m(model, optimizer, scheduler, metric, epoch, path)\u001b[0m\n\u001b[1;32m     17\u001b[0m \u001b[38;5;28;01mdef\u001b[39;00m \u001b[38;5;21msave_model\u001b[39m(model, optimizer, scheduler, metric, epoch, path):\n\u001b[0;32m---> 18\u001b[0m       torch\u001b[38;5;241m.\u001b[39msave(\n\u001b[1;32m     19\u001b[0m           {\u001b[38;5;124m\"\u001b[39m\u001b[38;5;124mmodel_state_dict\u001b[39m\u001b[38;5;124m\"\u001b[39m        : model\u001b[38;5;241m.\u001b[39mstate_dict(),\n\u001b[1;32m     20\u001b[0m           \u001b[38;5;124m\"\u001b[39m\u001b[38;5;124moptimizer_state_dict\u001b[39m\u001b[38;5;124m\"\u001b[39m     : optimizer\u001b[38;5;241m.\u001b[39mstate_dict(),\n\u001b[1;32m     21\u001b[0m           \u001b[38;5;124m\"\u001b[39m\u001b[38;5;124mscheduler_state_dict\u001b[39m\u001b[38;5;124m\"\u001b[39m     : scheduler\u001b[38;5;241m.\u001b[39mstate_dict() \u001b[38;5;28;01mif\u001b[39;00m scheduler \u001b[38;5;129;01mis\u001b[39;00m \u001b[38;5;129;01mnot\u001b[39;00m \u001b[38;5;28;01mNone\u001b[39;00m \u001b[38;5;28;01melse\u001b[39;00m {},\n\u001b[1;32m     22\u001b[0m           metric[\u001b[38;5;241m0\u001b[39m]                  : metric[\u001b[38;5;241m1\u001b[39m],\n\u001b[1;32m     23\u001b[0m           \u001b[38;5;124m\"\u001b[39m\u001b[38;5;124mepoch\u001b[39m\u001b[38;5;124m\"\u001b[39m                    : epoch},\n\u001b[1;32m     24\u001b[0m           path\n\u001b[1;32m     25\u001b[0m       )\n",
      "File \u001b[0;32m~/anaconda3/lib/python3.12/site-packages/torch/serialization.py:652\u001b[0m, in \u001b[0;36msave\u001b[0;34m(obj, f, pickle_module, pickle_protocol, _use_new_zipfile_serialization, _disable_byteorder_record)\u001b[0m\n\u001b[1;32m    650\u001b[0m \u001b[38;5;28;01mif\u001b[39;00m _use_new_zipfile_serialization:\n\u001b[1;32m    651\u001b[0m     \u001b[38;5;28;01mwith\u001b[39;00m _open_zipfile_writer(f) \u001b[38;5;28;01mas\u001b[39;00m opened_zipfile:\n\u001b[0;32m--> 652\u001b[0m         _save(obj, opened_zipfile, pickle_module, pickle_protocol, _disable_byteorder_record)\n\u001b[1;32m    653\u001b[0m         \u001b[38;5;28;01mreturn\u001b[39;00m\n\u001b[1;32m    654\u001b[0m \u001b[38;5;28;01melse\u001b[39;00m:\n",
      "File \u001b[0;32m~/anaconda3/lib/python3.12/site-packages/torch/serialization.py:883\u001b[0m, in \u001b[0;36m_save\u001b[0;34m(obj, zip_file, pickle_module, pickle_protocol, _disable_byteorder_record)\u001b[0m\n\u001b[1;32m    879\u001b[0m \u001b[38;5;66;03m# given that we copy things around anyway, we might use storage.cpu()\u001b[39;00m\n\u001b[1;32m    880\u001b[0m \u001b[38;5;66;03m# this means to that to get tensors serialized, you need to implement\u001b[39;00m\n\u001b[1;32m    881\u001b[0m \u001b[38;5;66;03m# .cpu() on the underlying Storage\u001b[39;00m\n\u001b[1;32m    882\u001b[0m \u001b[38;5;28;01mif\u001b[39;00m storage\u001b[38;5;241m.\u001b[39mdevice\u001b[38;5;241m.\u001b[39mtype \u001b[38;5;241m!=\u001b[39m \u001b[38;5;124m'\u001b[39m\u001b[38;5;124mcpu\u001b[39m\u001b[38;5;124m'\u001b[39m:\n\u001b[0;32m--> 883\u001b[0m     storage \u001b[38;5;241m=\u001b[39m storage\u001b[38;5;241m.\u001b[39mcpu()\n\u001b[1;32m    884\u001b[0m \u001b[38;5;66;03m# Now that it is on the CPU we can directly copy it into the zip file\u001b[39;00m\n\u001b[1;32m    885\u001b[0m num_bytes \u001b[38;5;241m=\u001b[39m storage\u001b[38;5;241m.\u001b[39mnbytes()\n",
      "File \u001b[0;32m~/anaconda3/lib/python3.12/site-packages/torch/storage.py:167\u001b[0m, in \u001b[0;36m_StorageBase.cpu\u001b[0;34m(self)\u001b[0m\n\u001b[1;32m    165\u001b[0m \u001b[38;5;250m\u001b[39m\u001b[38;5;124;03m\"\"\"Return a CPU copy of this storage if it's not already on the CPU.\"\"\"\u001b[39;00m\n\u001b[1;32m    166\u001b[0m \u001b[38;5;28;01mif\u001b[39;00m \u001b[38;5;28mself\u001b[39m\u001b[38;5;241m.\u001b[39mdevice\u001b[38;5;241m.\u001b[39mtype \u001b[38;5;241m!=\u001b[39m \u001b[38;5;124m'\u001b[39m\u001b[38;5;124mcpu\u001b[39m\u001b[38;5;124m'\u001b[39m:\n\u001b[0;32m--> 167\u001b[0m     \u001b[38;5;28;01mreturn\u001b[39;00m torch\u001b[38;5;241m.\u001b[39mUntypedStorage(\u001b[38;5;28mself\u001b[39m\u001b[38;5;241m.\u001b[39msize())\u001b[38;5;241m.\u001b[39mcopy_(\u001b[38;5;28mself\u001b[39m, \u001b[38;5;28;01mFalse\u001b[39;00m)\n\u001b[1;32m    168\u001b[0m \u001b[38;5;28;01melse\u001b[39;00m:\n\u001b[1;32m    169\u001b[0m     \u001b[38;5;28;01mreturn\u001b[39;00m \u001b[38;5;28mself\u001b[39m\n",
      "\u001b[0;31mKeyboardInterrupt\u001b[0m: "
     ]
    },
    {
     "data": {
      "image/png": "[encoded data removed]",
      "text/plain": [
       "<Figure size 640x480 with 2 Axes>"
      ]
     },
     "metadata": {},
     "output_type": "display_data"
    }
   ],
   "source": [
    "gc.collect()\n",
    "torch.cuda.empty_cache()\n",
    "\n",
    "epochs = config[\"epochs\"]\n",
    "for epoch in range(e, epochs):\n",
    "\n",
    "    print(\"\\nEpoch {}/{}\".format(epoch+1, config[\"epochs\"]))\n",
    "\n",
    "    curr_lr = float(optimizer.param_groups[0][\"lr\"])\n",
    "\n",
    "    train_loss, train_perplexity, attention_weights = train_step(\n",
    "        model,\n",
    "        criterion=loss_func,\n",
    "        ctc_loss=ctc_loss_fn,\n",
    "        ctc_weight=config['ctc_weight'],\n",
    "        optimizer=optimizer,\n",
    "        scheduler=scheduler,\n",
    "        scaler=scaler,\n",
    "        device=device,\n",
    "        train_loader=train_loader,\n",
    "        tokenizer=tokenizer,\n",
    "    )\n",
    "\n",
    "    print(\"\\nEpoch {}/{}: \\nTrain Loss {:.04f}\\t Train Perplexity {:.04f}\\t Learning Rate {:.06f}\".format(\n",
    "        epoch + 1, config[\"epochs\"], train_loss, train_perplexity, curr_lr))\n",
    "\n",
    "\n",
    "    levenshtein_distance, json_out, wer, cer = validate_step(\n",
    "        model,\n",
    "        val_loader=val_loader,\n",
    "        tokenizer=tokenizer,\n",
    "        device=device,\n",
    "        threshold=5\n",
    "    )\n",
    "\n",
    "\n",
    "    fpath = os.path.join(text_root, f'full_{epoch+1}_out.json')\n",
    "    with open(fpath, \"w\") as f:\n",
    "        json.dump(json_out, f, indent=4)\n",
    "\n",
    "    print(\"Levenshtein Distance : {:.04f}\".format(levenshtein_distance))\n",
    "    print(\"WER                  : {:.04f}\".format(wer))\n",
    "    print(\"CER                  : {:.04f}\".format(cer))\n",
    "\n",
    "    attention_keys = list(attention_weights.keys())\n",
    "    attention_weights_decoder_self   = attention_weights[attention_keys[0]][0].cpu().detach().numpy()\n",
    "    attention_weights_decoder_cross  = attention_weights[attention_keys[-1]][0].cpu().detach().numpy()\n",
    "\n",
    "    if USE_WANDB:\n",
    "        wandb.log({\n",
    "            \"train_loss\"       : train_loss,\n",
    "            \"train_perplexity\" : train_perplexity,\n",
    "            \"learning_rate\"    : curr_lr,\n",
    "            \"lev_dist\"         : levenshtein_distance,\n",
    "            \"WER\"              : wer,\n",
    "            \"CER\"              : cer\n",
    "        })\n",
    "\n",
    "\n",
    "    save_attention_plot(str(attn_img_root), attention_weights_decoder_cross, epoch )\n",
    "    save_attention_plot(str(attn_img_root), attention_weights_decoder_self, epoch+100)\n",
    "    if config[\"scheduler\"] == \"ReduceLR\":\n",
    "        scheduler.step(levenshtein_distance)\n",
    "    else:\n",
    "        scheduler.step()\n",
    "\n",
    "    epoch_model_path = os.path.join(checkpoint_root, (checkpoint_last_epoch_filename + str(epoch) + '.pth'))\n",
    "    save_model(model, optimizer, scheduler, ['train_loss', train_loss], epoch, epoch_model_path)\n",
    "\n",
    "    if best_dist >= levenshtein_distance:\n",
    "        best_loss = train_loss\n",
    "        best_dist = levenshtein_distance\n",
    "        save_model(model, optimizer, scheduler, ['train_loss', train_loss], epoch, best_loss_model_path)\n",
    "        print(\"Saved best distance model\")\n",
    "\n",
    "\n",
    "if USE_WANDB:\n",
    "    run.finish()\n"
   ]
  },
  {
   "cell_type": "code",
   "execution_count": null,
   "metadata": {},
   "outputs": [],
   "source": [
    "from transformers import AutoProcessor, AutoModelForSpeechSeq2Seq\n",
    "from transformers import AutoModelForSpeechSeq2Seq, AutoProcessor, pipeline\n",
    "processor = AutoProcessor.from_pretrained(\"mbazaNLP/Whisper-Small-Kinyarwanda\")\n",
    "model_whisper = AutoModelForSpeechSeq2Seq.from_pretrained(\"mbazaNLP/Whisper-Small-Kinyarwanda\")\n",
    "model_whisper.config.forced_decoder_ids = None\n",
    "model_whisper.config.suppress_tokens = None\n",
    "\n",
    "whisper_pipe = pipeline(\n",
    "    \"automatic-speech-recognition\",\n",
    "    model=model_whisper,\n",
    "    tokenizer=processor.tokenizer,\n",
    "    feature_extractor=processor.feature_extractor,\n",
    "    max_new_tokens=128,\n",
    "    chunk_length_s=30,\n",
    "\n",
    "    device=\"cuda\",   \n",
    "\n",
    ")\n",
    "\n",
    "def predict(model, audio, tokenizer):\n",
    "    out = whisper_pipe(audio)\n",
    "\n",
    "    noisy_text = out['text']\n",
    "    model.eval()\n",
    "    input = tokenizer.encode(noisy_text)\n",
    "    greedy_predictions = model.recognize(input, [len(input)], tokenizer=tokenizer)\n",
    "\n",
    "   \n",
    "    \n",
    "    pad_indices = torch.where(greedy_predictions[0] == 1)[0]\n",
    "    if pad_indices.numel() > 0:\n",
    "        lowest_pad_idx = pad_indices.min().item()\n",
    "    else:\n",
    "        lowest_pad_idx = len(greedy_predictions[0])\n",
    "    pred_trimmed = greedy_predictions[0, :lowest_pad_idx]\n",
    "    \n",
    "    pred_string  = tokenizer.decode(pred_trimmed)\n",
    "\n",
    "\n",
    "\n",
    "    return pred_string"
   ]
  },
  {
   "cell_type": "code",
   "execution_count": null,
   "metadata": {},
   "outputs": [],
   "source": [
    "import pandas as pd\n",
    "\n",
    "# Create data for transcripts\n",
    "transcripts = [\n",
    "    \"Imiti yo kuvura kanseri ikunze kugira ingaruka zikomeye ku murwayi.\",\n",
    "    \"Guhuza imirire myiza n'imyitozo ngororamubiri byongera ubuzima bwiza.\",\n",
    "    \"Ubwandu bw'igituntu bukomeje kuba ikibazo cy'ubuzima rusange mu bihugu biri mu nzira y'amajyambere.\",\n",
    "    \"Ubuvuzi bw'amenyo bukwiye guhabwa umwanya uhagije mu buvuzi rusange.\",\n",
    "    \"Urukingo rwa COVID-19 rwagaragaje umusaruro mwiza mu kugabanya ubukana.\",\n",
    "    \"Ubushakashatsi bwerekana ko kugabanya umunyu bigabanya ibyago byo kurwara umutima.\",\n",
    "    \"Kubyara kare bishobora kugira ingaruka mbi ku buzima bw'umubyeyi n'umwana.\",\n",
    "    \"Abantu benshi batitabira gupimwa indwara zitandura nka diyabete.\",\n",
    "    \"Ubuvuzi bwa kinyarwanda bufite umwanya wihariye mu muryango nyarwanda.\",\n",
    "    \"Gukoresha ikoranabuhanga mu buvuzi byongereye ubudahangarwa mu kwita ku barwayi.\",\n",
    "    \"Imibereho y'abantu igira uruhare runini mu gutegura ubuvuzi bukwiye.\",\n",
    "    \"Kurwanya malariya bisaba ubufatanye bw'inzego zose z'ubuzima.\",\n",
    "    \"Ubusumbane mu buvuzi bukomeje kuba imbogamizi ikomeye.\",\n",
    "    \"Itabi rikomeje kuba intandaro y'indwara z'umutima n'ibihaha.\",\n",
    "    \"Kwita ku buzima bwo mu mutwe bikwiye kuba mu by'ibanze mu buvuzi.\",\n",
    "    \"Imirire idahwitse ikomeje kuba ikibazo mu bana bato.\",\n",
    "    \"Kuboneza urubyaro ni ingenzi mu kugabanya umubare w'abaturage.\",\n",
    "    \"Ubukangurambaga ku buzima bw'imyororokere burakenewe mu rubyiruko.\",\n",
    "    \"Amavuriro y'ibanze akwiye guhabwa ibikoresho bihagije.\",\n",
    "    \"Ubuvuzi bw'amatungo bufitanye isano ya hafi n'ubuzima bw'abantu.\",\n",
    "    \"Kugabanya ibiro birakenewe ku bantu bafite umubyibuho ukabije.\",\n",
    "    \"Uruhare rw'ubumenyi mu gukumira no kuvura indwara ntirugomba gusuzugurwa.\",\n",
    "    \"Kugira ubuzima bwiza bisaba kumenya no kwirinda indwara z'ibyorezo.\",\n",
    "    \"Ubufasha bw'ibanze buhutiraho bushobora kurokora ubuzima.\",\n",
    "    \"Amazi meza n'isuku ni ingenzi mu kwirinda indwara ziterwa n'umwanda.\",\n",
    "    \"Indwara z'umutima zikomeje kwiyongera mu baturage.\",\n",
    "    \"Uburezi bujyanye n'ubuzima bukenewe guhera mu mashuri abanza.\",\n",
    "    \"Gutanga amahugurwa ku baganga bikwiye guhoraho.\",\n",
    "    \"Gupima indwara hakiri kare ni ingenzi mu kuzivura neza.\",\n",
    "    \"Kurwanya umubyibuho ukabije ni kimwe mu bibangamiye ubuzima rusange.\",\n",
    "    \"Ubushakashatsi mu buvuzi bukeneye inkunga y'ibihugu.\",\n",
    "    \"Uruhare rw'imyitozo ngororamubiri mu kwirinda indwara ntirukwiye kwirengagizwa.\",\n",
    "    \"Imiti gakondo ishobora kunganira ubuvuzi bugezweho.\",\n",
    "    \"Umuvuduko w'amaraso ukabije ugomba gukurikiranwa n'abaganga.\",\n",
    "    \"Kugabanya isukari mu mirire ni ingenzi mu kurwanya diyabete.\",\n",
    "    \"Abantu bakwiye gushishikarizwa gukoresha urukingo rw'igituntu.\",\n",
    "    \"Ubuvuzi bw'ibyorezo bikomeye bukwiye gutegurwa neza mu bihugu.\",\n",
    "    \"Ubushakashatsi ku ndwara z'ibyorezo burakenewe kugira ngo tubashe kuzitsinda.\",\n",
    "    \"Imiti irwanya virusi igomba gutangwa ku barwayi ku gihe.\",\n",
    "    \"Kuvura ibikomere bikomeje kuba ikibazo mu bihe by'intambara.\",\n",
    "    \"Gukurikirana ubuzima bw'abagore batwite ni ingenzi mu kugabanya impfu z'ababyeyi.\",\n",
    "    \"Guteza imbere ubuvuzi bwa telemedicine byagize akamaro mu bihe bya COVID-19.\",\n",
    "    \"Abana bato bakwiye guhabwa inkingo zose ziteganyijwe.\",\n",
    "    \"Kwirinda indwara zitandura ni kimwe mu bibazo by'ubuzima bw'ibanze.\",\n",
    "    \"Gukumira indwara z'umutima bisaba ubufatanye bw'abaturage n'abaganga.\",\n",
    "    \"Kurwanya indwara ya hepatitis bisaba ubukangurambaga bukomeye.\",\n",
    "    \"Kuboneza imirire y'abana bato ni ngombwa mu kurwanya bwaki.\",\n",
    "    \"Uruhare rw'abaturage mu kubungabunga ubuzima bwabo ntirugomba gusuzugurwa.\",\n",
    "    \"Kwita ku bana bafite ubumuga bukomatanyije bisaba ubufasha bwihariye.\",\n",
    "    \"Gukurikirana iterambere ry'ubuvuzi bugezweho ni ingenzi mu kurwanya indwara.\",\n",
    "    \"Kuvura indwara zifata amagufa bisaba ubuhanga n'ubushishozi.\",\n",
    "    \"Gushyira imbere ubushakashatsi ku ndwara zidakira ni ingenzi.\",\n",
    "    \"Gukumira no kuvura malariya bisaba gukoresha inzitiramibu mu ngo.\",\n",
    "    \"Kwirinda no kuvura indwara z'umwijima bikwiye gufatwa nk'ingenzi.\",\n",
    "    \"Kugabanya umunaniro ukabije mu bakozi ni ngombwa mu rwego rw'ubuzima.\",\n",
    "    \"Kwita ku isuku y'ibikoresho byo mu bitaro ni ingenzi mu kwirinda indwara.\",\n",
    "    \"Guteza imbere uburezi bujyanye n'ubuvuzi bw'amaso ni ngombwa.\",\n",
    "    \"Uruhare rw'abaganga mu kuvura indwara zo mu mutwe ntirugomba kwirengagizwa.\",\n",
    "    \"Gushyira imbere ubuvuzi bwa kanseri y'ibere ni ingenzi.\",\n",
    "    \"Ubukangurambaga ku buzima bw'imyororokere burakenewe mu mashuri.\"\n",
    "]\n",
    "\n",
    "# Generate recording names in the format rec1, rec2, ..., rec60\n",
    "recordings = [f\"/kaggle/input/testsss-dataset/rec{i+1}.wav\" for i in range(60)]\n",
    "\n",
    "# Create a DataFrame\n",
    "df = pd.DataFrame({\n",
    "    'recording': recordings,\n",
    "    'transcript': transcripts\n",
    "})\n",
    "\n",
    "# # Save DataFrame to CSV\n",
    "# df.to_csv('/kaggle/working/med_test',index=False)\n",
    "# Save DataFrame to CSV\n",
    "df.to_csv('/kaggle/working/medicall_tests',index=False)\n",
    "df = pd.read_csv(\"/kaggle/working/medicall_tests\")"
   ]
  },
  {
   "cell_type": "code",
   "execution_count": null,
   "metadata": {},
   "outputs": [
    {
     "name": "stdout",
     "output_type": "stream",
     "text": [
      "\n",
      "Mean WER: 24.3400\n",
      "Mean CER: 10.6200\n"
     ]
    }
   ],
   "source": [
    "import numpy as np\n",
    "from jiwer import wer, cer\n",
    "\n",
    "wer_errors = []\n",
    "cer_errors = []\n",
    "\n",
    "for idx, row in df.iterrows():\n",
    "    result = predict(model,row['recording'],tokenizer)\n",
    "    wer_error = wer(row['transcript'], result['text'])\n",
    "    cer_error = cer(row['transcript'], result['text'])\n",
    "    wer_errors.append(wer_error)\n",
    "    cer_errors.append(cer_error)\n",
    "    print(f\"Processing recording {idx+1}/60\")  # Progress tracking\n",
    "\n",
    "mean_wer = np.mean(wer_errors)\n",
    "mean_cer = np.mean(cer_errors)\n",
    "\n",
    "print(f\"\\nMean WER: {mean_wer:.4f}\")\n",
    "print(f\"Mean CER: {mean_cer:.4f}\")"
   ]
  },
  {
   "cell_type": "code",
   "execution_count": null,
   "metadata": {},
   "outputs": [],
   "source": []
  }
 ],
 "metadata": {
  "kernelspec": {
   "display_name": "Python 3",
   "language": "python",
   "name": "python3"
  },
  "language_info": {
   "codemirror_mode": {
    "name": "ipython",
    "version": 3
   },
   "file_extension": ".py",
   "mimetype": "text/x-python",
   "name": "python",
   "nbconvert_exporter": "python",
   "pygments_lexer": "ipython3",
   "version": "3.11.4"
  }
 },
 "nbformat": 4,
 "nbformat_minor": 2
}
